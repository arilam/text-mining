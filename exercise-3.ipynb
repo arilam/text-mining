{
 "cells": [
  {
   "cell_type": "code",
   "execution_count": 1,
   "metadata": {
    "autoscroll": false,
    "ein.hycell": false,
    "ein.tags": "worksheet-0",
    "slideshow": {
     "slide_type": "-"
    }
   },
   "outputs": [],
   "source": [
    "! pip install --quiet gensim"
   ]
  },
  {
   "cell_type": "code",
   "execution_count": 1,
   "metadata": {
    "autoscroll": false,
    "ein.hycell": false,
    "ein.tags": "worksheet-0",
    "slideshow": {
     "slide_type": "-"
    }
   },
   "outputs": [],
   "source": [
    "import pandas as pd\n",
    "\n",
    "yelps = pd.read_csv('sentiment/yelps.csv')"
   ]
  },
  {
   "cell_type": "code",
   "execution_count": 2,
   "metadata": {
    "autoscroll": false,
    "ein.hycell": false,
    "ein.tags": "worksheet-0",
    "slideshow": {
     "slide_type": "-"
    }
   },
   "outputs": [],
   "source": [
    "from bs4 import BeautifulSoup\n",
    "from spacy.lang.en import English\n",
    "\n",
    "def clean_yelp(s):\n",
    "    s = BeautifulSoup(s, 'html5lib').get_text()\n",
    "    s = ' '.join(s.split())\n",
    "    s = s.strip().lower()\n",
    "    return s\n",
    "\n",
    "def tokenize(s):\n",
    "    \"\"\" Returns a list of strings (tokens) from the document \"\"\"\n",
    "\n",
    "    # Implement this function!\n",
    "    # Hint: If you look at the sklearn source code on github, \n",
    "    # you will find a good regular expression they use as a default\n",
    "    # tokenizer in CountVectorizer -- this is the tokenizer\n",
    "    # we have been using until now!\n",
    "    # But you need to implement your own now.   \n",
    "    parser = English()\n",
    "    tokens = parser(s)\n",
    "    tokens = [token.orth_ for token in tokens if not token.orth_.isspace()]\n",
    "    return tokens"
   ]
  },
  {
   "cell_type": "code",
   "execution_count": 8,
   "metadata": {
    "autoscroll": false,
    "ein.hycell": false,
    "ein.tags": "worksheet-0",
    "slideshow": {
     "slide_type": "-"
    }
   },
   "outputs": [
    {
     "name": "stderr",
     "output_type": "stream",
     "text": [
      "/home/arilam/anaconda3/lib/python3.6/site-packages/bs4/__init__.py:335: UserWarning: \"https://www.consumeraffairs.com/news/mypillow-gets-a-rude-awakening-as-the-better-business-bureau-gives-it-an-f-010517.html\" looks like a URL. Beautiful Soup is not an HTTP client. You should probably use an HTTP client like requests to get the document behind the URL, and feed that document to Beautiful Soup.\n",
      "  ' that document to Beautiful Soup.' % decoded_markup\n",
      "/home/arilam/anaconda3/lib/python3.6/site-packages/bs4/__init__.py:272: UserWarning: \"b'..'\" looks like a filename, not markup. You should probably open this file and pass the filehandle into Beautiful Soup.\n",
      "  ' Beautiful Soup.' % markup)\n"
     ]
    }
   ],
   "source": [
    "from sklearn.feature_extraction.text import CountVectorizer\n",
    "from sklearn.decomposition import TruncatedSVD\n",
    "\n",
    "# Create a count vectorizer, using the preprocessor and tokenizer from above\n",
    "# use TruncatedSVD from Sklearn to generate a term embedding matrix for your data\n",
    "# that is 100 dimensional in size.\n",
    "# Embed your documents via that term embedding matrix (this is just the PCA of the \n",
    "# TF matrix, as returned by \"transform\" on TruncatedSVD\n",
    "\n",
    "vectorizer = CountVectorizer(preprocessor=clean_yelp, tokenizer=tokenize)\n",
    "\n",
    "# Here you should have TWO vector representations of your Yelp data: \n",
    "# 1. The original TF matrix\n",
    "V = vectorizer.fit_transform(yelps.text)\n",
    "# 2. The first 100 components of the PCA of that matrix, as performed by TruncatedSVD\n",
    "svd = TruncatedSVD(n_components=100)\n",
    "PCA_V = svd.fit_transform(V)"
   ]
  },
  {
   "cell_type": "code",
   "execution_count": 3,
   "metadata": {
    "autoscroll": false,
    "ein.hycell": false,
    "ein.tags": "worksheet-0",
    "slideshow": {
     "slide_type": "-"
    }
   },
   "outputs": [],
   "source": [
    "from sklearn.linear_model import LogisticRegression\n",
    "from sklearn.metrics import accuracy_score\n",
    "\n",
    "def test_holdout_vectors(V, y, cutoff):\n",
    "    model = LogisticRegression()\n",
    "    model.fit(V[:cutoff], y[:cutoff])\n",
    "    preds = model.predict(V[cutoff:])\n",
    "    return accuracy_score(preds, y[cutoff:])"
   ]
  },
  {
   "cell_type": "code",
   "execution_count": 26,
   "metadata": {
    "autoscroll": false,
    "ein.hycell": false,
    "ein.tags": "worksheet-0",
    "slideshow": {
     "slide_type": "-"
    }
   },
   "outputs": [
    {
     "name": "stderr",
     "output_type": "stream",
     "text": [
      "/home/arilam/anaconda3/lib/python3.6/site-packages/sklearn/linear_model/logistic.py:433: FutureWarning: Default solver will be changed to 'lbfgs' in 0.22. Specify a solver to silence this warning.\n",
      "  FutureWarning)\n"
     ]
    },
    {
     "name": "stdout",
     "output_type": "stream",
     "text": [
      "cutoff: 60000 accuracy: 0.666375\n"
     ]
    },
    {
     "name": "stderr",
     "output_type": "stream",
     "text": [
      "/home/arilam/anaconda3/lib/python3.6/site-packages/sklearn/linear_model/logistic.py:433: FutureWarning: Default solver will be changed to 'lbfgs' in 0.22. Specify a solver to silence this warning.\n",
      "  FutureWarning)\n"
     ]
    },
    {
     "name": "stdout",
     "output_type": "stream",
     "text": [
      "cutoff: 70000 accuracy: 0.7684\n"
     ]
    },
    {
     "name": "stderr",
     "output_type": "stream",
     "text": [
      "/home/arilam/anaconda3/lib/python3.6/site-packages/sklearn/linear_model/logistic.py:433: FutureWarning: Default solver will be changed to 'lbfgs' in 0.22. Specify a solver to silence this warning.\n",
      "  FutureWarning)\n"
     ]
    },
    {
     "name": "stdout",
     "output_type": "stream",
     "text": [
      "cutoff: 80000 accuracy: 0.81995\n"
     ]
    },
    {
     "name": "stderr",
     "output_type": "stream",
     "text": [
      "/home/arilam/anaconda3/lib/python3.6/site-packages/sklearn/linear_model/logistic.py:433: FutureWarning: Default solver will be changed to 'lbfgs' in 0.22. Specify a solver to silence this warning.\n",
      "  FutureWarning)\n"
     ]
    },
    {
     "name": "stdout",
     "output_type": "stream",
     "text": [
      "cutoff: 90000 accuracy: 0.8555\n"
     ]
    }
   ],
   "source": [
    "# Test your vector representations using the above function, test_holdout_vectors. \n",
    "# for several levels of \"cutoff\". \n",
    "\n",
    "# This function simulates training on a small part of your data and testing on the rest.\n",
    "# Thus, it's as though you have some labelled data but a bunch of unlabelled data. \n",
    "# This is essentially a semi-supervised situation. \n",
    "\n",
    "# Do the word embeddings generated via SVD allow you to pull information from the \n",
    "# unlabeled data and improve your score given a small training set? \n",
    "cutoffs = [60000,70000,80000,90000]\n",
    "for val in cutoffs:\n",
    "    print(\"cutoff:\",val,\"accuracy:\",test_holdout_vectors(PCA_V, yelps.positive, val))"
   ]
  },
  {
   "cell_type": "code",
   "execution_count": 4,
   "metadata": {},
   "outputs": [
    {
     "name": "stderr",
     "output_type": "stream",
     "text": [
      "/home/arilam/anaconda3/lib/python3.6/site-packages/bs4/__init__.py:335: UserWarning: \"https://www.consumeraffairs.com/news/mypillow-gets-a-rude-awakening-as-the-better-business-bureau-gives-it-an-f-010517.html\" looks like a URL. Beautiful Soup is not an HTTP client. You should probably use an HTTP client like requests to get the document behind the URL, and feed that document to Beautiful Soup.\n",
      "  ' that document to Beautiful Soup.' % decoded_markup\n",
      "/home/arilam/anaconda3/lib/python3.6/site-packages/bs4/__init__.py:272: UserWarning: \"b'..'\" looks like a filename, not markup. You should probably open this file and pass the filehandle into Beautiful Soup.\n",
      "  ' Beautiful Soup.' % markup)\n"
     ]
    }
   ],
   "source": [
    "import multiprocessing\n",
    "cores = multiprocessing.cpu_count()\n",
    "sentences = pd.Series([])\n",
    "for val in yelps.text:\n",
    "    sentences = sentences.append(pd.Series([tokenize(clean_yelp(val))]))"
   ]
  },
  {
   "cell_type": "code",
   "execution_count": 5,
   "metadata": {
    "autoscroll": false,
    "ein.hycell": false,
    "ein.tags": "worksheet-0",
    "slideshow": {
     "slide_type": "-"
    }
   },
   "outputs": [
    {
     "data": {
      "text/plain": [
       "(143022177, 407646420)"
      ]
     },
     "execution_count": 5,
     "metadata": {},
     "output_type": "execute_result"
    }
   ],
   "source": [
    "from gensim.models import Word2Vec\n",
    "\n",
    "# Next, create another term embedding via Word2Vec, also 100 dimensional\n",
    "# Look at the documentation from the library gensim and see what hyperparameters\n",
    "# you can choose to tune. \n",
    "# Note: training takes time, so you probably won't want to try too many!\n",
    "w2v = Word2Vec(min_count=20,\n",
    "                     window=2,\n",
    "                     size=100,\n",
    "                     sample=6e-5, \n",
    "                     alpha=0.03, \n",
    "                     min_alpha=0.0007, \n",
    "                     negative=20,\n",
    "                     workers=cores-1)\n",
    "# pass the cleaned and tokenized yelp reviews as \"sentences\" to your model\n",
    "# to build the vocabulary and train the word vectors. \n",
    "w2v.build_vocab(sentences)\n",
    "w2v.train(sentences, total_examples=w2v.corpus_count, epochs=30)"
   ]
  },
  {
   "cell_type": "code",
   "execution_count": 6,
   "metadata": {
    "autoscroll": false,
    "ein.hycell": false,
    "ein.tags": "worksheet-0",
    "slideshow": {
     "slide_type": "-"
    }
   },
   "outputs": [],
   "source": [
    "import numpy as np\n",
    "\n",
    "def embed_w2v(tokens, w2v):\n",
    "    idxs = [w2v.wv.vocab.get(t) for t in tokens]\n",
    "    idxs = [t.index for t in idxs if t]\n",
    "    N = w2v.wv.vectors.shape[1]\n",
    "    if len(idxs) < 1:\n",
    "        return np.zeros(N)\n",
    "    a = np.sum(w2v.wv.vectors[idxs, :], axis=0)\n",
    "    a /= np.linalg.norm(a)\n",
    "    return a\n",
    "\n",
    "\n",
    "# use as follows: np.array([embed_w2v(t, w2v) for t in X])"
   ]
  },
  {
   "cell_type": "code",
   "execution_count": 7,
   "metadata": {
    "autoscroll": false,
    "ein.hycell": false,
    "ein.tags": "worksheet-0",
    "scrolled": true,
    "slideshow": {
     "slide_type": "-"
    }
   },
   "outputs": [
    {
     "name": "stderr",
     "output_type": "stream",
     "text": [
      "/home/arilam/anaconda3/lib/python3.6/site-packages/sklearn/linear_model/logistic.py:433: FutureWarning: Default solver will be changed to 'lbfgs' in 0.22. Specify a solver to silence this warning.\n",
      "  FutureWarning)\n"
     ]
    },
    {
     "name": "stdout",
     "output_type": "stream",
     "text": [
      "cutoff: 60000 accuracy: 0.8467\n"
     ]
    },
    {
     "name": "stderr",
     "output_type": "stream",
     "text": [
      "/home/arilam/anaconda3/lib/python3.6/site-packages/sklearn/linear_model/logistic.py:433: FutureWarning: Default solver will be changed to 'lbfgs' in 0.22. Specify a solver to silence this warning.\n",
      "  FutureWarning)\n"
     ]
    },
    {
     "name": "stdout",
     "output_type": "stream",
     "text": [
      "cutoff: 70000 accuracy: 0.9058333333333334\n"
     ]
    },
    {
     "name": "stderr",
     "output_type": "stream",
     "text": [
      "/home/arilam/anaconda3/lib/python3.6/site-packages/sklearn/linear_model/logistic.py:433: FutureWarning: Default solver will be changed to 'lbfgs' in 0.22. Specify a solver to silence this warning.\n",
      "  FutureWarning)\n"
     ]
    },
    {
     "name": "stdout",
     "output_type": "stream",
     "text": [
      "cutoff: 80000 accuracy: 0.9301\n"
     ]
    },
    {
     "name": "stderr",
     "output_type": "stream",
     "text": [
      "/home/arilam/anaconda3/lib/python3.6/site-packages/sklearn/linear_model/logistic.py:433: FutureWarning: Default solver will be changed to 'lbfgs' in 0.22. Specify a solver to silence this warning.\n",
      "  FutureWarning)\n"
     ]
    },
    {
     "name": "stdout",
     "output_type": "stream",
     "text": [
      "cutoff: 90000 accuracy: 0.9426\n"
     ]
    }
   ],
   "source": [
    "# use the embed_w2v function to embed your Yelp reviews using the new\n",
    "# word2vec word embeddings. Each review will be a normalized sum of the\n",
    "# words that it is made of. \n",
    "# See how this improves the scores in the classification task using\n",
    "# test_holdout_vectors -- is word2vec better? At what training-set sizes does it help\n",
    "# more? \n",
    "\n",
    "# Yes, word2vec is better. The higher the cutoff value, the better.\n",
    "cutoffs = [60000,70000,80000,90000]\n",
    "for val in cutoffs:\n",
    "    print(\"cutoff:\",val,\"accuracy:\",test_holdout_vectors(np.array([embed_w2v(t, w2v) for t in sentences]), yelps.positive, val))"
   ]
  },
  {
   "cell_type": "code",
   "execution_count": 8,
   "metadata": {
    "autoscroll": false,
    "ein.hycell": false,
    "ein.tags": "worksheet-0",
    "slideshow": {
     "slide_type": "-"
    }
   },
   "outputs": [],
   "source": [
    "import pandas as pd\n",
    "import re\n",
    "from functools import reduce\n",
    "\n",
    "pats = [re.compile(r'https?:\\/\\/[^\\s]+'), \n",
    "        re.compile(r'rt\\s*@\\w+\\s?:?'),\n",
    "        re.compile(r'@\\w+')]\n",
    "\n",
    "def clean_twitter(s):\n",
    "    \"\"\" Cleans Twitter specific issues\n",
    "    \n",
    "    Should probably clean out mentions, URLs, and RT's.\n",
    "    \"\"\"\n",
    "    s = s.lower()\n",
    "    _sub = lambda s,pat: re.sub(pat, '', s)\n",
    "    s = reduce(_sub, pats, s)\n",
    "    s = ' '.join(s.split()).strip()\n",
    "    # TODO: Use regular expressions to remove unwanted\n",
    "    # text and clean up our tweets to be more usable!\n",
    "\n",
    "    # BONUS: Try using the library \"spacy\" to \n",
    "    # do further processing, such as lemmatizing\n",
    "    # or replacing Named Entities with constants (i.e. \"[NAMED]\")\n",
    "    # or adding the part of speech or dependency code to the word \n",
    "\n",
    "    import spacy\n",
    "    nlp = spacy.load('en', disable=['parser', 'ner'])\n",
    "    doc = nlp(clean(s))\n",
    "    s = ' '.join([token.lemma_ for token in doc])\n",
    "    return s\n",
    "\n",
    "import re\n",
    "def clean(tweet):\n",
    "    tweet = re.sub(r'http[s]?://(?:[a-z]|[0-9]|[$-_@.&amp;+]|[!*\\(\\),]|(?:%[0-9a-f][0-9a-f]))+', '', tweet)  # URLs\n",
    "    tweet = re.sub(r'RT', '', tweet)  # RTs\n",
    "    tweet = re.sub(r'(?:@[\\w_]+)', '', tweet)  # user-mentions\n",
    "    tweet = re.sub(r'(?:\\#+[\\w_]+[\\w\\'_\\-]*[\\w_]+)', '', tweet)  # hashtags\n",
    "    tweet = re.sub(r'(?:(?:\\d+,?)+(?:\\.?\\d+)?)', '', tweet)  # numbers\n",
    "    return tweet"
   ]
  },
  {
   "cell_type": "code",
   "execution_count": 37,
   "metadata": {
    "autoscroll": false,
    "ein.hycell": false,
    "ein.tags": "worksheet-0",
    "slideshow": {
     "slide_type": "-"
    }
   },
   "outputs": [],
   "source": [
    "# Load tweet!\n",
    "# NOTE: this file needs to be downloaded from Box! \n",
    "\n",
    "with open('tweets/tweets.txt') as f:\n",
    "    tweets = pd.Series(f.readlines())"
   ]
  },
  {
   "cell_type": "code",
   "execution_count": 38,
   "metadata": {},
   "outputs": [],
   "source": [
    "for val in tweets:\n",
    "    sentences = sentences.append(pd.Series([tokenize(clean_twitter(val))]))"
   ]
  },
  {
   "cell_type": "code",
   "execution_count": 39,
   "metadata": {
    "autoscroll": false,
    "ein.hycell": false,
    "ein.tags": "worksheet-0",
    "slideshow": {
     "slide_type": "-"
    }
   },
   "outputs": [
    {
     "name": "stdout",
     "output_type": "stream",
     "text": [
      "Word2Vec: [('promptly', 0.39917662739753723), ('swiftly', 0.39584147930145264), ('corona', 0.38171905279159546), ('bartender', 0.37450915575027466), ('immediately', 0.37206289172172546), ('luke', 0.3644936680793762), ('brittany', 0.3576115369796753), ('differently', 0.3574785590171814), ('barista', 0.3521344065666199), ('server', 0.34899580478668213)]\n"
     ]
    },
    {
     "name": "stderr",
     "output_type": "stream",
     "text": [
      "/home/arilam/anaconda3/lib/python3.6/site-packages/gensim/matutils.py:737: FutureWarning: Conversion of the second argument of issubdtype from `int` to `np.signedinteger` is deprecated. In future, it will be treated as `np.int64 == np.dtype(int).type`.\n",
      "  if np.issubdtype(vec.dtype, np.int):\n"
     ]
    }
   ],
   "source": [
    "# Now embed this twitter data, again using Word2Vec and LSA (SVD)\n",
    "# you don't have any labels, but you might be able to \n",
    "# find some interesting phenomena. \n",
    "\n",
    "# Explore using either or both of the following tools: \n",
    "# 1. Word2Vec has a built in feature for getting most similar\n",
    "# words, including via positive/negative examples (subtraction)\n",
    "# What happens when you subtract \"hillary\" from \"trump\"? \n",
    "# \n",
    "# Bonus: build a similar feature for your LSA features and\n",
    "# see if you can do similar vector math\n",
    "\n",
    "# 2. Use the visualize_dist function to see how\n",
    "# the tweet-tweet distance looks for a selection\n",
    "# of random tweets. Do you agree with the distance? \n",
    "# Does one embedding seem better than another? \n",
    "\n",
    "w2v_model = Word2Vec(min_count=20,\n",
    "                     window=2,\n",
    "                     size=100,\n",
    "                     sample=6e-5, \n",
    "                     alpha=0.03, \n",
    "                     min_alpha=0.0007, \n",
    "                     negative=20,\n",
    "                     workers=cores-1)\n",
    "w2v_model.build_vocab(sentences)\n",
    "w2v_model.train(sentences, total_examples=w2v.corpus_count, epochs=30)\n",
    "print(\"Word2Vec:\",w2v_model.wv.most_similar(positive=[\"hillary\"], negative=[\"trump\"]))"
   ]
  },
  {
   "cell_type": "code",
   "execution_count": 40,
   "metadata": {
    "autoscroll": false,
    "ein.hycell": false,
    "ein.tags": "worksheet-0",
    "slideshow": {
     "slide_type": "-"
    }
   },
   "outputs": [],
   "source": [
    "from scipy.spatial.distance import pdist,squareform\n",
    "import seaborn as sns\n",
    "\n",
    "def visualize_dist(V, tweets, idxs):\n",
    "    \"\"\" Visualize distances in heatmap\n",
    "\n",
    "    V is the vector of embeddings \n",
    "    tweets is a list or series that converts from idx to tweet\n",
    "    idxs is a list of integers that you would like to compare (<= 5 probably)\n",
    "    \"\"\"\n",
    "    m = squareform(pdist(V[idxs], 'cosine'))\n",
    "    _ = sns.heatmap(pd.DataFrame(m, columns = tweets[idxs], index= tweets[idxs]))"
   ]
  },
  {
   "cell_type": "code",
   "execution_count": 46,
   "metadata": {},
   "outputs": [
    {
     "data": {
      "image/png": "[encoded data removed]",
      "text/plain": [
       "<Figure size 432x288 with 2 Axes>"
      ]
     },
     "metadata": {
      "needs_background": "light"
     },
     "output_type": "display_data"
    }
   ],
   "source": [
    "vectorizer = CountVectorizer()\n",
    "V = vectorizer.fit_transform(tweets)\n",
    "svd = TruncatedSVD(n_components=100)\n",
    "PCA_V = svd.fit_transform(V)\n",
    "visualize_dist(PCA_V,tweets,[1,2])"
   ]
  },
  {
   "cell_type": "code",
   "execution_count": 47,
   "metadata": {
    "autoscroll": false,
    "ein.hycell": false,
    "ein.tags": "worksheet-0",
    "slideshow": {
     "slide_type": "-"
    }
   },
   "outputs": [],
   "source": [
    "# More bonus!\n",
    "# Use one of the following pre-embedded models and see if your yelp scores improve? \n",
    "# What about your Twitter explorations?\n",
    "\n",
    "# https://github.com/RaRe-Technologies/gensim-data"
   ]
  },
  {
   "cell_type": "code",
   "execution_count": null,
   "metadata": {},
   "outputs": [],
   "source": []
  }
 ],
 "metadata": {
  "kernelspec": {
   "display_name": "Python 3",
   "language": "python",
   "name": "python3"
  },
  "language_info": {
   "codemirror_mode": {
    "name": "ipython",
    "version": 3
   },
   "file_extension": ".py",
   "mimetype": "text/x-python",
   "name": "python",
   "nbconvert_exporter": "python",
   "pygments_lexer": "ipython3",
   "version": "3.6.8"
  },
  "name": "exercise-3.ipynb"
 },
 "nbformat": 4,
 "nbformat_minor": 2
}
